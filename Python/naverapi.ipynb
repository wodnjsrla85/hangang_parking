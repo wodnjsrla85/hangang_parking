{
 "cells": [
  {
   "cell_type": "code",
   "execution_count": 1,
   "id": "e59df09b",
   "metadata": {},
   "outputs": [],
   "source": [
    "a = 1"
   ]
  },
  {
   "cell_type": "code",
   "execution_count": 47,
   "id": "3cc04777",
   "metadata": {},
   "outputs": [
    {
     "name": "stdout",
     "output_type": "stream",
     "text": [
      "[서초구 잠원동 122-1] 위도=37.5131226, 경도=127.0017158\n"
     ]
    },
    {
     "data": {
      "text/plain": [
       "('37.5131226', '127.0017158')"
      ]
     },
     "execution_count": 47,
     "metadata": {},
     "output_type": "execute_result"
    }
   ],
   "source": [
    "import requests\n",
    "\n",
    "# 네이버 클라우드 콘솔에서 발급받은 키\n",
    "API_KEY_ID = \"ijyoyw3aue\"\n",
    "API_KEY = \"bQy5sfMf4G4LMpdpV7nR4laOWF2O81ppK4kdvhTt\"\n",
    "\n",
    "def geocode(query):\n",
    "    url = \"https://maps.apigw.ntruss.com/map-geocode/v2/geocode\"\n",
    "    \n",
    "    headers = {\n",
    "        \"x-ncp-apigw-api-key-id\": API_KEY_ID,\n",
    "        \"x-ncp-apigw-api-key\": API_KEY,\n",
    "        \"Accept\": \"application/json\"\n",
    "    }\n",
    "    \n",
    "    params = {\"query\": query}\n",
    "    \n",
    "    response = requests.get(url, headers=headers, params=params)\n",
    "    \n",
    "    if response.status_code == 200:\n",
    "        data = response.json()\n",
    "        if data.get(\"addresses\"):\n",
    "            addr = data[\"addresses\"][0]\n",
    "            lat = addr[\"y\"]   # 위도\n",
    "            lon = addr[\"x\"]   # 경도\n",
    "            print(f\"[{query}] 위도={lat}, 경도={lon}\")\n",
    "            return lat, lon\n",
    "        else:\n",
    "            print(f\"[{query}] 좌표 없음\")\n",
    "            return None, None\n",
    "    else:\n",
    "        print(\"Error:\", response.status_code, response.text)\n",
    "        return None, None\n",
    "\n",
    "\n",
    "# === 사용 예시 ===\n",
    "geocode(\"서초구 잠원동 122-1\")"
   ]
  },
  {
   "cell_type": "code",
   "execution_count": null,
   "id": "4c5ed652",
   "metadata": {},
   "outputs": [],
   "source": []
  }
 ],
 "metadata": {
  "kernelspec": {
   "display_name": "base",
   "language": "python",
   "name": "python3"
  },
  "language_info": {
   "codemirror_mode": {
    "name": "ipython",
    "version": 3
   },
   "file_extension": ".py",
   "mimetype": "text/x-python",
   "name": "python",
   "nbconvert_exporter": "python",
   "pygments_lexer": "ipython3",
   "version": "3.12.7"
  }
 },
 "nbformat": 4,
 "nbformat_minor": 5
}
